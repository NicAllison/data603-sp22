{
 "cells": [
  {
   "cell_type": "code",
   "execution_count": null,
   "id": "8f600001-7907-4147-a769-6cab54e4568f",
   "metadata": {},
   "outputs": [],
   "source": [
    "import pyspark\n",
    "from pyspark.sql.types import DoubleType, StringType, StructField, StructType, IntegerType\n",
    "from pyspark.ml.classification import DecisionTreeClassifier\n",
    "from pyspark.ml.evaluation import BinaryClassificationEvaluator\n",
    "from pyspark.ml.tuning import ParamGridBuilder, CrossValidator\n",
    "from pyspark.ml.classification import LogisticRegression\n",
    "from pyspark.ml import Pipeline\n",
    "from pyspark.ml.linalg import VectorUDT\n",
    "from pyspark.ml.feature import StringIndexer, VectorAssembler\n",
    "from distutils.version import LooseVersion\n",
    "spark = pyspark.sql.SparkSession.builder.getOrCreate()"
   ]
  },
  {
   "cell_type": "code",
   "execution_count": null,
   "id": "e107f440-0d40-4ac7-a6a3-09cd234b6abc",
   "metadata": {},
   "outputs": [],
   "source": [
    "schema = schema = StructType([\n",
    "    StructField('Date', StringType(), True),\n",
    "    StructField('Location', StringType(), True),\n",
    "    StructField('MinTemp', DoubleType(), True),\n",
    "    StructField('MaxTemp', DoubleType(), True),\n",
    "    StructField('Rainfall', DoubleType(), True),\n",
    "    StructField('Evaporation', DoubleType(), True),\n",
    "    StructField('Sunshine', DoubleType(), True),\n",
    "    StructField('WindGustDir', StringType(), True),\n",
    "    StructField('WindGustSpeed', IntegerType(), True),\n",
    "    StructField('WindDir9am', StringType(), True),\n",
    "    StructField('WindDir3pm', StringType(), True),\n",
    "    StructField('WindSpeed9am', IntegerType(), True),\n",
    "    StructField('WindSpeed3pm', IntegerType(), True),\n",
    "    StructField('Humidity9am', IntegerType(), True),\n",
    "    StructField('Humidity3pm', IntegerType(), True),\n",
    "    StructField('Pressure9am', DoubleType(), True),\n",
    "    StructField('Pressure3pm', DoubleType(), True),\n",
    "    StructField('Cloud9am', IntegerType(), True),\n",
    "    StructField('Cloud3pm', IntegerType(), True),\n",
    "    StructField('Temp9am', DoubleType(), True),\n",
    "    StructField('Temp3pm', DoubleType(), True),\n",
    "    StructField('RainToday', StringType(), True),\n",
    "    StructField('RainTomorrow', StringType(), True)\n",
    "])\n",
    "\n",
    "\n",
    "indata = spark.read.csv('weatherAUS.csv', header=True, schema=schema)\n",
    "dataset = indata.na.drop('any')"
   ]
  },
  {
   "cell_type": "code",
   "execution_count": null,
   "id": "86671f89-bb67-4c46-a916-ab2ef12fbb35",
   "metadata": {},
   "outputs": [],
   "source": [
    "#Step 1\n",
    "(trainingData, testingData) = dataset.randomSplit([0.8,0.2], seed=12345)"
   ]
  },
  {
   "cell_type": "code",
   "execution_count": null,
   "id": "2a7f3d2b-a025-4631-80e5-ae06d4e5dc4e",
   "metadata": {},
   "outputs": [],
   "source": [
    "#Step 2\n",
    "#cat_colmn = ['Location', 'MinTemp', 'MaxTemp', 'Rainfall', 'Evaporation', 'Sunshine', 'WindGustDir', 'WindGustSpeed', 'WindDir9am', 'WindDir3pm', 'WindSpeed9am', 'WindSpeed3pm', 'Humidity9am', 'Humidity3pm', 'Pressure9am', 'Pressure3pm', 'Cloud9am', 'Cloud3pm', 'Temp9am', 'Temp3pm', 'RainToday', 'RainTomorrow']\n",
    "categorical_columns = ['MinTemp', 'MaxTemp']#, 'Rainfall', 'Evaporation']#, 'Sunshine', 'WindGustSpeed', 'WindSpeed9am', 'WindSpeed3pm', 'Humidity9am', 'Humidity3pm', 'Pressure9am', 'Pressure3pm', 'Cloud9am', 'Cloud3pm', 'Temp9am', 'Temp3pm']\n",
    "stage=[]\n",
    "for cat_col in categorical_columns:\n",
    "    stringIndexer = StringIndexer(inputCol=cat_col, outputCol=cat_col + \"Index\")\n",
    "    if LooseVersion(pyspark. __version__) < LooseVersion(\"3.0\"):\n",
    "        from pyspark.ml.feature import OneHotEncoderEstimator\n",
    "        encoder = OneHotEncoderEstimator(inputCols=[stringIndexer.getOutputCols()], outputCols=[cat_col+ 'classVec'])\n",
    "    else:\n",
    "        from pyspark.ml.feature import OneHotEncoder\n",
    "        encoder = OneHotEncoder(inputCols=[stringIndexer.getOutputCol()], outputCols=[cat_col + 'classVec'])\n",
    "        #print(cat_col)\n",
    "        #print(encoder)\n",
    "    stage += [stringIndexer, encoder]"
   ]
  },
  {
   "cell_type": "code",
   "execution_count": null,
   "id": "2678c685-ea31-47ad-b790-488cbdc43221",
   "metadata": {},
   "outputs": [],
   "source": [
    "label_stringIdx = StringIndexer(inputCol='RainTomorrow', outputCol='label')\n",
    "stage += [label_stringIdx]"
   ]
  },
  {
   "cell_type": "code",
   "execution_count": null,
   "id": "9c1b3ff4-cf70-41d5-91f1-0c645cc2eb82",
   "metadata": {},
   "outputs": [],
   "source": [
    "numericCols = ['MinTemp', 'MaxTemp']#, 'Rainfall', 'Evaporation']#, 'Sunshine', 'WindGustSpeed', 'WindSpeed9am', 'WindSpeed3pm', 'Humidity9am', 'Humidity3pm', 'Pressure9am', 'Pressure3pm', 'Cloud9am', 'Cloud3pm', 'Temp9am', 'Temp3pm']\n",
    "asemblerInput = [c + 'classVec' for c in categorical_columns] + numericCols\n",
    "asembler = VectorAssembler(inputCols=asemblerInput, outputCol='features')\n",
    "stage += [asembler]"
   ]
  },
  {
   "cell_type": "code",
   "execution_count": null,
   "id": "55e3bab4-8407-4499-abbd-f51b9e2eedd0",
   "metadata": {},
   "outputs": [],
   "source": [
    "partialPipeline = Pipeline().setStages(stage)\n",
    "pipelineModel = partialPipeline.fit(dataset)\n",
    "preppedDataDF = pipelineModel.transform(dataset)"
   ]
  },
  {
   "cell_type": "code",
   "execution_count": null,
   "id": "5791a4a2-3e2a-4305-b9de-061f1ce2593a",
   "metadata": {},
   "outputs": [],
   "source": [
    "val schema = new StructType().add(\"features\", new VectorUDT())"
   ]
  },
  {
   "cell_type": "code",
   "execution_count": null,
   "id": "584283bc-4f27-4687-9497-ee9202537a62",
   "metadata": {},
   "outputs": [],
   "source": []
  },
  {
   "cell_type": "code",
   "execution_count": null,
   "id": "87c7899c-4eec-4042-9f22-8e1cefb1eaf6",
   "metadata": {},
   "outputs": [],
   "source": [
    "dt = DecisionTreeClassifier(labelCol=\"label\", featuresCol='MinTemp', maxDepth=3)\n",
    "dtModel = dt.fit(trainingData)"
   ]
  },
  {
   "cell_type": "code",
   "execution_count": null,
   "id": "f2e0f3b2-3e6b-4913-bc6d-7c720167efb6",
   "metadata": {},
   "outputs": [],
   "source": [
    "display(dtModel)"
   ]
  },
  {
   "cell_type": "code",
   "execution_count": null,
   "id": "00a0ad6d-26dd-410c-93ce-3542c5d3742a",
   "metadata": {},
   "outputs": [],
   "source": [
    "preditions = dtModel.transform(testData)"
   ]
  },
  {
   "cell_type": "code",
   "execution_count": null,
   "id": "644b3502-6f83-4d4f-9fb7-adec166709dd",
   "metadata": {},
   "outputs": [],
   "source": [
    "predictions.printSchema()"
   ]
  },
  {
   "cell_type": "code",
   "execution_count": null,
   "id": "eda4e2f2-4768-43e1-855a-d3db2cc4437b",
   "metadata": {},
   "outputs": [],
   "source": [
    "selected = preditions.select('MinTemp', 'MaxTemp')\n",
    "display(selected)"
   ]
  },
  {
   "cell_type": "code",
   "execution_count": null,
   "id": "6b06bd80-6178-4fa7-b885-36eb4e1a5120",
   "metadata": {},
   "outputs": [],
   "source": [
    "evaluator = BinaryClassificationEvaluator()\n",
    "evaluator.evaluate(predictions)"
   ]
  },
  {
   "cell_type": "code",
   "execution_count": null,
   "id": "e28e3ba5-136c-4605-b023-f85b51ec9eb9",
   "metadata": {},
   "outputs": [],
   "source": [
    "#Step 3\n",
    "paramGrid = (ParamGridBuilder().addGrid(dt.maxDepth, [3,5,7])\n",
    "                               .addGrid(dt.maxBins, [20, 40, 80])\n",
    "                               .addGrid(dt.minInfoGain, [0.0,0.2,0.4])\n",
    "                               .addGrid(dt.impurity)"
   ]
  },
  {
   "cell_type": "code",
   "execution_count": null,
   "id": "60bc0219-df53-4297-8c9c-36e769a49765",
   "metadata": {},
   "outputs": [],
   "source": [
    "#Step 4\n",
    "cv = CrossValidator(estimator=dt, estimatorParamMaps=paramGrid, evaluator=evaluator, numFolds=4)\n",
    "cvModel = cv.fit(trainingData)"
   ]
  },
  {
   "cell_type": "code",
   "execution_count": null,
   "id": "11b203f9-d074-4362-b10a-d59bfdfea327",
   "metadata": {},
   "outputs": [],
   "source": [
    "predictions = cvModel.transform(testData)"
   ]
  },
  {
   "cell_type": "code",
   "execution_count": null,
   "id": "c263826f-7aa2-49fc-a8d4-fecc1363131e",
   "metadata": {},
   "outputs": [],
   "source": [
    "#Step 5\n",
    "pipeline = Pipeline(stages=[label_stringIdx,dt])"
   ]
  },
  {
   "cell_type": "code",
   "execution_count": null,
   "id": "db029eb3-606d-40ce-ae18-55a37ab45d21",
   "metadata": {},
   "outputs": [],
   "source": [
    "#Step 6\n",
    "pipeline.printSchema()"
   ]
  }
 ],
 "metadata": {
  "kernelspec": {
   "display_name": "Python 3 (ipykernel)",
   "language": "python",
   "name": "python3"
  },
  "language_info": {
   "codemirror_mode": {
    "name": "ipython",
    "version": 3
   },
   "file_extension": ".py",
   "mimetype": "text/x-python",
   "name": "python",
   "nbconvert_exporter": "python",
   "pygments_lexer": "ipython3",
   "version": "3.9.10"
  }
 },
 "nbformat": 4,
 "nbformat_minor": 5
}
