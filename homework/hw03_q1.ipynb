{
 "cells": [
  {
   "cell_type": "code",
   "execution_count": 1,
   "metadata": {},
   "outputs": [
    {
     "name": "stdout",
     "output_type": "stream",
     "text": [
      "Overwriting hw3_q1.py\n"
     ]
    }
   ],
   "source": [
    "%%file hw3_q1.py\n",
    "import re\n",
    "from mrjob.job import MRJob\n",
    "import statistics\n",
    "\n",
    "word_re = re.compile(r'\\w+')\n",
    "\n",
    "class MRAverageWord(MRJob):\n",
    "    \n",
    "    def mapper(self, _, line):\n",
    "        (a) = line.split(',')\n",
    "        if a[4].startswith('text'):\n",
    "            pass\n",
    "        else:\n",
    "            count = 0\n",
    "            for word in word_re.findall(a[4]):\n",
    "                count += 1\n",
    "            yield \"words\", count\n",
    "        \n",
    "    def reducer(self, key, word):\n",
    "        yield key, statistics.mean(word)\n",
    "        \n",
    "if __name__ == '__main__':\n",
    "    MRAverageWord.run()"
   ]
  },
  {
   "cell_type": "code",
   "execution_count": null,
   "metadata": {},
   "outputs": [],
   "source": []
  },
  {
   "cell_type": "code",
   "execution_count": 2,
   "metadata": {},
   "outputs": [
    {
     "name": "stderr",
     "output_type": "stream",
     "text": [
      "No configs specified for inline runner\n"
     ]
    },
    {
     "name": "stdout",
     "output_type": "stream",
     "text": [
      "words 29.7015\n"
     ]
    }
   ],
   "source": [
    "import hw3_q1\n",
    "\n",
    "mr_job = hw3_q1.MRAverageWord(args=['yelp.csv'])\n",
    "with mr_job.make_runner() as runner:\n",
    "    runner.run()\n",
    "    for key, value in mr_job.parse_output(runner.cat_output()):\n",
    "        print(key, value)"
   ]
  },
  {
   "cell_type": "code",
   "execution_count": null,
   "metadata": {},
   "outputs": [],
   "source": []
  }
 ],
 "metadata": {
  "kernelspec": {
   "display_name": "Python 3",
   "language": "python",
   "name": "python3"
  },
  "language_info": {
   "codemirror_mode": {
    "name": "ipython",
    "version": 3
   },
   "file_extension": ".py",
   "mimetype": "text/x-python",
   "name": "python",
   "nbconvert_exporter": "python",
   "pygments_lexer": "ipython3",
   "version": "3.7.4"
  }
 },
 "nbformat": 4,
 "nbformat_minor": 2
}
