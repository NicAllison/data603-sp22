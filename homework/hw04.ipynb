{
 "cells": [
  {
   "cell_type": "code",
   "execution_count": 36,
   "id": "a7d99d4f-0b23-435c-b674-d736f473c4ba",
   "metadata": {},
   "outputs": [],
   "source": [
    "import pyspark\n",
    "spark = pyspark.sql.SparkSession.builder.getOrCreate()\n",
    "from pyspark.sql.types import StructType, StructField, StringType, IntegerType, FloatType, TimestampType, ArrayType, DateType\n",
    "sc = spark.sparkContext"
   ]
  },
  {
   "cell_type": "code",
   "execution_count": 49,
   "id": "ab43202b-51e7-44b3-91ba-9477a04cb735",
   "metadata": {},
   "outputs": [],
   "source": [
    "#Question 1\n",
    "schema = StructType([\n",
    "    StructField('X', FloatType(), True),\n",
    "    StructField('Y', FloatType(), True),\n",
    "    StructField('RowID', IntegerType(), True),\n",
    "    StructField('CrimeDateTime', StringType(), True),\n",
    "    StructField('CrimeCode', StringType(), True),\n",
    "    StructField('Location', StringType(), True),\n",
    "    StructField('Description', StringType(), True),\n",
    "    StructField('Inside_Outside', StringType(), True),\n",
    "    StructField('Weapon', StringType(), True),\n",
    "    StructField('Post', IntegerType(), True),\n",
    "    StructField('District', StringType(), True),\n",
    "    StructField('Neighborhood', StringType(), True),\n",
    "    StructField('Latitude', FloatType(), True),\n",
    "    StructField('Longitude', FloatType(), True),\n",
    "    StructField('Geolocation', StringType(), True),\n",
    "    StructField('Premise', StringType(), True),\n",
    "    StructField('VRIName', StringType(), True),\n",
    "    StructField('Total_Incidents', IntegerType(), True),\n",
    "    StructField('Shape', StringType(), True)\n",
    "])"
   ]
  },
  {
   "cell_type": "code",
   "execution_count": 46,
   "id": "2dd9981e-282c-45ed-9027-f4bd9cd39856",
   "metadata": {},
   "outputs": [],
   "source": [
    "#Question 2\n",
    "dafra = spark.read.csv(\"Part1_Crime_data.csv\", header = True, schema=schema)"
   ]
  },
  {
   "cell_type": "code",
   "execution_count": 47,
   "id": "56e8dff6-0290-4395-baeb-626e75c67734",
   "metadata": {},
   "outputs": [
    {
     "data": {
      "text/plain": [
       "DataFrame[X: float, Y: float, RowID: int, CrimeDateTime: string, CrimeCode: string, Location: string, Description: string, Inside_Outside: string, Weapon: string, Post: int, District: string, Neighborhood: string, Latitude: float, Longitude: float, Geolocation: string, Premise: string, VRIName: string, Total_Incidents: int, Shape: string]"
      ]
     },
     "execution_count": 47,
     "metadata": {},
     "output_type": "execute_result"
    }
   ],
   "source": [
    "#Question 3\n",
    "dafra.cache()"
   ]
  },
  {
   "cell_type": "code",
   "execution_count": 50,
   "id": "a011b10c-4a17-4b62-901d-72b27fbc37d7",
   "metadata": {},
   "outputs": [
    {
     "data": {
      "text/plain": [
       "513158"
      ]
     },
     "execution_count": 50,
     "metadata": {},
     "output_type": "execute_result"
    }
   ],
   "source": [
    "#Question 4\n",
    "dafra.count()"
   ]
  },
  {
   "cell_type": "code",
   "execution_count": 48,
   "id": "e60745ee-fdde-412e-a27e-3fd0fdb535b6",
   "metadata": {},
   "outputs": [
    {
     "name": "stdout",
     "output_type": "stream",
     "text": [
      "root\n",
      " |-- X: float (nullable = true)\n",
      " |-- Y: float (nullable = true)\n",
      " |-- RowID: integer (nullable = true)\n",
      " |-- CrimeDateTime: string (nullable = true)\n",
      " |-- CrimeCode: string (nullable = true)\n",
      " |-- Location: string (nullable = true)\n",
      " |-- Description: string (nullable = true)\n",
      " |-- Inside_Outside: string (nullable = true)\n",
      " |-- Weapon: string (nullable = true)\n",
      " |-- Post: integer (nullable = true)\n",
      " |-- District: string (nullable = true)\n",
      " |-- Neighborhood: string (nullable = true)\n",
      " |-- Latitude: float (nullable = true)\n",
      " |-- Longitude: float (nullable = true)\n",
      " |-- Geolocation: string (nullable = true)\n",
      " |-- Premise: string (nullable = true)\n",
      " |-- VRIName: string (nullable = true)\n",
      " |-- Total_Incidents: integer (nullable = true)\n",
      " |-- Shape: string (nullable = true)\n",
      "\n"
     ]
    }
   ],
   "source": [
    "#Question 5\n",
    "dafra.printSchema()"
   ]
  },
  {
   "cell_type": "code",
   "execution_count": 42,
   "id": "b8015c42-dd18-446f-b99e-4bd859a0cb22",
   "metadata": {},
   "outputs": [
    {
     "data": {
      "text/plain": [
       "[Row(X=1420074.125, Y=594160.625, RowID=1, CrimeDateTime='2022/02/26 04:00:00+00', CrimeCode='4E', Location='200 W MONUMENT ST', Description='COMMON ASSAULT', Inside_Outside=None, Weapon='NA', Post=124, District='CENTRAL', Neighborhood='MOUNT VERNON', Latitude=39.29750061035156, Longitude=-76.61930084228516, Geolocation='(39.2975,-76.6193)', Premise=None, VRIName=None, Total_Incidents=1, Shape=None),\n",
       " Row(X=1411374.25, Y=589791.375, RowID=2, CrimeDateTime='2022/02/26 01:26:30+00', CrimeCode='9S', Location='2100 FREDERICK AVE', Description='SHOOTING', Inside_Outside='Outside', Weapon='FIREARM', Post=835, District='SOUTHWEST', Neighborhood='CARROLLTON RIDGE', Latitude=39.28559875488281, Longitude=-76.65010070800781, Geolocation='(39.2856,-76.6501)', Premise='COMMON BUSINESS', VRIName='Tri-District', Total_Incidents=1, Shape=None),\n",
       " Row(X=1411401.125, Y=582761.75, RowID=3, CrimeDateTime='2022/02/26 10:22:00+00', CrimeCode='4E', Location='2000 GRINNALDS AVE', Description='COMMON ASSAULT', Inside_Outside=None, Weapon='NA', Post=831, District='SOUTHWEST', Neighborhood='MORRELL PARK', Latitude=39.266300201416016, Longitude=-76.65010070800781, Geolocation='(39.2663,-76.6501)', Premise=None, VRIName=None, Total_Incidents=1, Shape=None)]"
      ]
     },
     "execution_count": 42,
     "metadata": {},
     "output_type": "execute_result"
    }
   ],
   "source": [
    "#Question 6\n",
    "dafra.head(6)"
   ]
  },
  {
   "cell_type": "code",
   "execution_count": null,
   "id": "6643e8b9-b0ba-4eec-be91-b49318ee8591",
   "metadata": {},
   "outputs": [],
   "source": []
  },
  {
   "cell_type": "code",
   "execution_count": null,
   "id": "a9c59bc1-c060-4d2a-9246-36b7b2334ce8",
   "metadata": {},
   "outputs": [],
   "source": []
  },
  {
   "cell_type": "code",
   "execution_count": 81,
   "id": "11896613-67a1-4f10-a43c-8fe2296f1273",
   "metadata": {},
   "outputs": [],
   "source": [
    "from pyspark.sql.functions import desc, countDistinct, count_distinct"
   ]
  },
  {
   "cell_type": "code",
   "execution_count": 51,
   "id": "e61ced52-dbd9-4fe7-88b7-7c38b137b2de",
   "metadata": {},
   "outputs": [],
   "source": [
    "#Part Two Question"
   ]
  },
  {
   "cell_type": "code",
   "execution_count": 57,
   "id": "0be86b34-9b16-4d08-8815-593a7fd66d5c",
   "metadata": {},
   "outputs": [
    {
     "name": "stdout",
     "output_type": "stream",
     "text": [
      "+---------+\n",
      "|CrimeCode|\n",
      "+---------+\n",
      "|       3P|\n",
      "|       3K|\n",
      "|      3BJ|\n",
      "|       1A|\n",
      "|       3M|\n",
      "|       5F|\n",
      "|       4B|\n",
      "|       3B|\n",
      "|       7A|\n",
      "|      3NF|\n",
      "|      3EF|\n",
      "|       3N|\n",
      "|       5D|\n",
      "|      3LO|\n",
      "|      3AF|\n",
      "|       7B|\n",
      "|      3GO|\n",
      "|     3AJF|\n",
      "|      8AO|\n",
      "|       7C|\n",
      "+---------+\n",
      "only showing top 20 rows\n",
      "\n"
     ]
    }
   ],
   "source": [
    "#Question 1: What are the Distinct crime codes?\n",
    "dafra.select('CrimeCode').distinct().show()"
   ]
  },
  {
   "cell_type": "code",
   "execution_count": 97,
   "id": "e26b3fdc-0252-4050-b307-611f90aecbf9",
   "metadata": {},
   "outputs": [
    {
     "name": "stdout",
     "output_type": "stream",
     "text": [
      "+---------+-----+\n",
      "|CrimeCode|count|\n",
      "+---------+-----+\n",
      "|       4E|91650|\n",
      "|       6D|68427|\n",
      "|       5A|43928|\n",
      "|       7A|40274|\n",
      "|       6J|27636|\n",
      "|       6G|26858|\n",
      "|       6E|24300|\n",
      "|       6C|23227|\n",
      "|       4C|22438|\n",
      "|       5D|14971|\n",
      "|      3AF|14739|\n",
      "|       4B|14460|\n",
      "|       4A|13226|\n",
      "|       3B|10737|\n",
      "|       4D| 7232|\n",
      "|       5B| 6475|\n",
      "|       9S| 5443|\n",
      "|       6F| 5081|\n",
      "|       5C| 4917|\n",
      "|       6B| 4106|\n",
      "+---------+-----+\n",
      "only showing top 20 rows\n",
      "\n"
     ]
    }
   ],
   "source": [
    "#Question 2: Count the number of crimes by the crime codes and order by the resulting counts in descending order\n",
    "dafra.groupBy('CrimeCode').count().orderBy('count',ascending=False).show()"
   ]
  },
  {
   "cell_type": "code",
   "execution_count": 98,
   "id": "42b470da-aadd-4160-b5bf-241d63cacbd8",
   "metadata": {},
   "outputs": [
    {
     "name": "stdout",
     "output_type": "stream",
     "text": [
      "+--------------------+-----+\n",
      "|        Neighborhood|count|\n",
      "+--------------------+-----+\n",
      "|            DOWNTOWN|17799|\n",
      "|           FRANKFORD|12050|\n",
      "|       BELAIR-EDISON|10888|\n",
      "|            BROOKLYN| 9026|\n",
      "|              CANTON| 7544|\n",
      "| SANDTOWN-WINCHESTER| 7420|\n",
      "|         CHERRY HILL| 7399|\n",
      "|               UPTON| 6499|\n",
      "|        MOUNT VERNON| 6156|\n",
      "|         FELLS POINT| 6008|\n",
      "|        INNER HARBOR| 5984|\n",
      "|PATTERSON PARK NE...| 5980|\n",
      "|WASHINGTON VILLAG...| 5930|\n",
      "|      HAMILTON HILLS| 5905|\n",
      "|COLDSTREAM HOMEST...| 5811|\n",
      "|           MONDAWMIN| 5754|\n",
      "|      MCELDERRY PARK| 5668|\n",
      "|CENTRAL PARK HEIGHTS| 5255|\n",
      "|    CARROLLTON RIDGE| 5032|\n",
      "|       BROADWAY EAST| 4998|\n",
      "+--------------------+-----+\n",
      "only showing top 20 rows\n",
      "\n"
     ]
    }
   ],
   "source": [
    "#Question 3: Which neighborhood had most crimes?\n",
    "dafra.groupBy('Neighborhood').count().orderBy('count',ascending=False).show()"
   ]
  },
  {
   "cell_type": "code",
   "execution_count": 160,
   "id": "8b3c4b61-f273-4ede-be2a-44a481b8b081",
   "metadata": {},
   "outputs": [
    {
     "name": "stdout",
     "output_type": "stream",
     "text": [
      "The Month that had the most was: \n"
     ]
    },
    {
     "data": {
      "text/plain": [
       "[Row(month='08', count=46327)]"
      ]
     },
     "execution_count": 160,
     "metadata": {},
     "output_type": "execute_result"
    }
   ],
   "source": [
    "#Question 4: Which month of the year had most crimes?\n",
    "df = dafra.withColumn('month', dafra.CrimeDateTime.substr(6,2))\n",
    "print('The Month that had the most was: ')\n",
    "df.groupBy('month').count().orderBy('count',ascending=False).head(1)"
   ]
  },
  {
   "cell_type": "code",
   "execution_count": 153,
   "id": "5da85b9a-3e9f-40be-8eeb-607da9fa8425",
   "metadata": {},
   "outputs": [
    {
     "name": "stdout",
     "output_type": "stream",
     "text": [
      "+-------+\n",
      "| Weapon|\n",
      "+-------+\n",
      "|  HANDS|\n",
      "|  KNIFE|\n",
      "|  OTHER|\n",
      "|   FIRE|\n",
      "|FIREARM|\n",
      "+-------+\n",
      "\n"
     ]
    }
   ],
   "source": [
    "#Question 5: What weapons were used?\n",
    "weapon = dafra.filter(dafra.Weapon != \"NA\")\n",
    "weapon.select('Weapon').distinct().show()"
   ]
  },
  {
   "cell_type": "code",
   "execution_count": 159,
   "id": "070d86ed-dc7d-4b42-bff4-ddb88a8e61fd",
   "metadata": {},
   "outputs": [
    {
     "name": "stdout",
     "output_type": "stream",
     "text": [
      "The most used weapon is: \n"
     ]
    },
    {
     "data": {
      "text/plain": [
       "[Row(Weapon='FIREARM', count=46139)]"
      ]
     },
     "execution_count": 159,
     "metadata": {},
     "output_type": "execute_result"
    }
   ],
   "source": [
    "#Question 6: Which weapon was used the most?\n",
    "print('The most used weapon is: ')\n",
    "weapon.groupBy('Weapon').count().orderBy('count',ascending=False).head(1)"
   ]
  },
  {
   "cell_type": "code",
   "execution_count": null,
   "id": "7d98466d-ac41-4a77-b8c5-00788f1ae6fd",
   "metadata": {},
   "outputs": [],
   "source": []
  }
 ],
 "metadata": {
  "kernelspec": {
   "display_name": "Python 3 (ipykernel)",
   "language": "python",
   "name": "python3"
  },
  "language_info": {
   "codemirror_mode": {
    "name": "ipython",
    "version": 3
   },
   "file_extension": ".py",
   "mimetype": "text/x-python",
   "name": "python",
   "nbconvert_exporter": "python",
   "pygments_lexer": "ipython3",
   "version": "3.9.7"
  }
 },
 "nbformat": 4,
 "nbformat_minor": 5
}
