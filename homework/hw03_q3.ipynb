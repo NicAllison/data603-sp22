{
 "cells": [
  {
   "cell_type": "code",
   "execution_count": 1,
   "metadata": {},
   "outputs": [
    {
     "name": "stdout",
     "output_type": "stream",
     "text": [
      "Overwriting hw3_q3.py\n"
     ]
    }
   ],
   "source": [
    "%%file hw3_q3.py\n",
    "import re\n",
    "from mrjob.job import MRJob\n",
    "import statistics\n",
    "\n",
    "class MRAverageRating(MRJob):\n",
    "    def mapper(self, _, line):\n",
    "        (a) = line.split(',')\n",
    "        if a[4].startswith('text'):\n",
    "            pass\n",
    "        else:\n",
    "            if(a[7] != 0):\n",
    "                yield \"Average Rating\", int(a[3])\n",
    "\n",
    "    def reducer(self, key, ratings):\n",
    "        yield key, statistics.mean(ratings)\n",
    "        \n",
    "if __name__ == '__main__':\n",
    "    MRAverageRating.run()"
   ]
  },
  {
   "cell_type": "code",
   "execution_count": null,
   "metadata": {},
   "outputs": [],
   "source": []
  },
  {
   "cell_type": "code",
   "execution_count": 2,
   "metadata": {},
   "outputs": [
    {
     "name": "stderr",
     "output_type": "stream",
     "text": [
      "No configs specified for inline runner\n"
     ]
    },
    {
     "name": "stdout",
     "output_type": "stream",
     "text": [
      "Average Rating 3.7775\n"
     ]
    }
   ],
   "source": [
    "import hw3_q3\n",
    "\n",
    "mr_job = hw3_q3.MRAverageRating(args=['yelp.csv'])\n",
    "with mr_job.make_runner() as runner:\n",
    "    runner.run()\n",
    "    for key, value in mr_job.parse_output(runner.cat_output()):\n",
    "        print(key, value)"
   ]
  },
  {
   "cell_type": "code",
   "execution_count": null,
   "metadata": {},
   "outputs": [],
   "source": []
  }
 ],
 "metadata": {
  "kernelspec": {
   "display_name": "Python 3",
   "language": "python",
   "name": "python3"
  },
  "language_info": {
   "codemirror_mode": {
    "name": "ipython",
    "version": 3
   },
   "file_extension": ".py",
   "mimetype": "text/x-python",
   "name": "python",
   "nbconvert_exporter": "python",
   "pygments_lexer": "ipython3",
   "version": "3.7.4"
  }
 },
 "nbformat": 4,
 "nbformat_minor": 2
}
