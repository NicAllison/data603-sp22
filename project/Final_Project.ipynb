{
 "cells": [
  {
   "cell_type": "markdown",
   "id": "8ddc8e6b-c07f-4f3f-a120-3c4453b97ba9",
   "metadata": {},
   "source": [
    "## Spotify Charts with Spark\n",
    "First off you will need to go to https://www.kaggle.com/datasets/dhruvildave/spotify-charts and where it shows charts.csv 3.48GB download it from there it is large, but the data is cut down during this project and since Apache Spark is being used it doesn't take to long to load in. Once it is downloaded and you have to extract it from its zip file and then put the csv file in the same folder as this file you can run each command individually."
   ]
  },
  {
   "cell_type": "code",
   "execution_count": null,
   "id": "d548fb92-4cb7-4d4c-bddb-89b5d92ba81d",
   "metadata": {},
   "outputs": [],
   "source": [
    "import pyspark\n",
    "spark = pyspark.sql.SparkSession.builder.getOrCreate()\n",
    "from pyspark.sql.types import StructType, StructField, StringType, IntegerType, FloatType, TimestampType, ArrayType, DateType\n",
    "from pyspark.sql.functions import sum_distinct\n",
    "from pyspark.sql import functions as F\n",
    "from pyspark.sql.window import Window\n",
    "import numpy as np\n",
    "import pandas as pd\n",
    "import matplotlib.pyplot as plt\n",
    "sc = spark.sparkContext"
   ]
  },
  {
   "cell_type": "code",
   "execution_count": null,
   "id": "9325bc0f-ba1f-440b-add2-1b9d5db4d08e",
   "metadata": {},
   "outputs": [],
   "source": [
    "schema = StructType([\n",
    "    StructField('title', StringType(), True),\n",
    "    StructField('rank', IntegerType(), True),\n",
    "    StructField('date', StringType(), True),\n",
    "    StructField('artist', StringType(), True),\n",
    "    StructField('url', StringType(), True),\n",
    "    StructField('region', StringType(), True),\n",
    "    StructField('chart', StringType(), True),\n",
    "    StructField('trend', StringType(), True),\n",
    "    StructField('streams', IntegerType(), True)\n",
    "])"
   ]
  },
  {
   "cell_type": "code",
   "execution_count": null,
   "id": "5a6e07b1-9356-4d14-9a1f-69f76f6ae2f1",
   "metadata": {},
   "outputs": [],
   "source": [
    "df = spark.read.csv('charts.csv', header=True, schema=schema, timestampFormat='yyyy-MM-dd')\n",
    "\n",
    "#These DataFrames are used to find the top 200 chart also find the ten countries: United States, Switzerland, Australia, Brazil, Germany, United Kingdom, Sweden, Austria, Uruguay, and Chile\n",
    "#This will also go through the commands and find the month and year choice as well as year choice\n",
    "dim = df.filter((df.chart == 'top200') & ((df.region == 'United States') | (df.region == 'Switzerland') | (df.region == 'Australia') | (df.region == 'Brazil') | (df.region == 'Germany') | (df.region == 'United Kingdom') | (df.region == 'Sweden') | (df.region == 'Austria') | (df.region == 'Uruguay') | (df.region == 'Chile')))\n",
    "df_month = dim.withColumn('month', F.date_format(F.col(\"date\"), \"yyyy-MM\"))\n",
    "df_year = df_month.withColumn('year', F.date_format(F.col(\"month\"), \"yyyy\"))\n",
    "\n",
    "#These DataFrames are the global variables that are going to be used to compare the values to the choosen 10 countries\n",
    "#This will also go through the commands and find the month and year choice as well as year choice\n",
    "glob = df.filter((df.chart == 'top200') & (df.region == 'Global'))\n",
    "df_glob_month = glob.withColumn('month', F.date_format(F.col(\"date\"), \"yyyy-MM\"))\n",
    "df_glob_year = glob.withColumn('year', F.date_format(F.col(\"date\"), \"yyyy\"))"
   ]
  },
  {
   "cell_type": "code",
   "execution_count": null,
   "id": "9bd6c4dc-0b3a-422d-9ecb-c93c6e0f8df3",
   "metadata": {},
   "outputs": [],
   "source": [
    "dim.filter((dim.title == 'Bad and Boujee (feat. Lil Uzi Vert)') & (dim.region == 'United States') & (dim.artist == 'Migos') & (dim.date.startswith('2017-01'))).show(10)"
   ]
  },
  {
   "cell_type": "markdown",
   "id": "6c249ba9-4a74-45e8-a7bb-feb6677bafe8",
   "metadata": {},
   "source": [
    "### The Sum\n",
    "This section has three parts with similar pieces. The first part goes off of the the countries, The second part is the checker which sums the ten country values, The third part is the global value. Each of the parts have 4 pieces all of the pieces look to find the summed total number of streams. The first piece goes based on the title of the song and the month, The second piece goes off of the title of the song and the year, third is based on the artist of the song and month, and lastly it is artist of the song and year."
   ]
  },
  {
   "cell_type": "code",
   "execution_count": null,
   "id": "14b7aee9-9a44-427b-931b-04feb71bb28a",
   "metadata": {},
   "outputs": [],
   "source": [
    "#1 Country\n",
    "#This DataFrame requires the title, artist, month, region to summarize the streams and then to find the total_streams for each region\n",
    "month = df_month.groupBy(['title','artist','month','region']).agg(F.sum('streams').alias('total_streams'))\n",
    "#This DataFrame is then modified so months set as ascending and total_streams are set to descending\n",
    "month = month.orderBy(month.month.asc(),month.total_streams.desc())"
   ]
  },
  {
   "cell_type": "code",
   "execution_count": null,
   "id": "4279c764-ef89-41ee-9ecb-4048e58f90fa",
   "metadata": {},
   "outputs": [],
   "source": [
    "#2 Country\n",
    "#This DataFrame requires the title, artist, year, region to summarize the streams and then to find the total_streams for each region\n",
    "year = df_year.groupBy(['title','artist','year','region']).agg(F.sum('streams').alias('total_streams'))\n",
    "#This DataFrame is then modified so years set as ascending and total_streams are set to descending\n",
    "year = year.orderBy(year.year.asc(),year.total_streams.desc())"
   ]
  },
  {
   "cell_type": "code",
   "execution_count": null,
   "id": "f094a5a0-3d97-4a97-8246-f85f6dab0026",
   "metadata": {},
   "outputs": [],
   "source": [
    "#3 Country\n",
    "#This DataFrame requires the artist, month, region to summarize the streams and then to find the total_streams for each region\n",
    "artist_month = df_month.groupBy(['artist','month','region']).agg(F.sum('streams').alias('total_streams'))\n",
    "#This DataFrame is then modified so months set as ascending and total_streams are set to descending\n",
    "artist_month = artist_month.orderBy(artist_month.month.asc(), artist_month.total_streams.desc())"
   ]
  },
  {
   "cell_type": "code",
   "execution_count": null,
   "id": "2e6508ad-aa2d-4d6a-ab6e-0263cc8ed5f9",
   "metadata": {},
   "outputs": [],
   "source": [
    "#4 Country\n",
    "#This DataFrame requires the artist, year, region to summarize the streams and then to find the total_streams for each region\n",
    "artist_year = df_year.groupBy(['artist','year','region']).agg(F.sum('streams').alias('total_streams'))\n",
    "#This DataFrame is then modified so years set as ascending and total_streams are set to descending\n",
    "artist_year = artist_year.orderBy(artist_year.year.asc(), artist_year.total_streams.desc())"
   ]
  },
  {
   "cell_type": "code",
   "execution_count": null,
   "id": "2c450e2d-06f6-4042-a9d9-6d74c4d73804",
   "metadata": {},
   "outputs": [],
   "source": [
    "#1 The Checker for the Song Title by Month\n",
    "#This DataFrame requires the title, artist, month to summarize the streams and then to find the total_streams to check against the global value\n",
    "chk_month = df_month.groupBy(['title','artist','month']).agg(F.sum('streams').alias('total_streams'))\n",
    "#This DataFrame is then modified so months set as ascending and total_streams are set to descending\n",
    "chk_month = chk_month.orderBy(chk_month.month.asc(), chk_month.total_streams.desc())"
   ]
  },
  {
   "cell_type": "code",
   "execution_count": null,
   "id": "aaab6641-4856-497d-81ea-de0c3da41415",
   "metadata": {},
   "outputs": [],
   "source": [
    "#2 The Checker for the Song Title by Year\n",
    "#This DataFrame requires the title, artist, year to summarize the streams and then to find the total_streams to check against the global value\n",
    "chk_year = df_year.groupBy(['title','artist','year']).agg(F.sum('streams').alias('total_streams'))\n",
    "#This DataFrame is then modified so years set as ascending and total_streams are set to descending\n",
    "chk_year = chk_year.orderBy(chk_year.year.asc(), chk_year.total_streams.desc())"
   ]
  },
  {
   "cell_type": "code",
   "execution_count": null,
   "id": "fb37f647-cd3c-47d9-84e6-dee3362e54c5",
   "metadata": {},
   "outputs": [],
   "source": [
    "#3 The Checker for the Artist by Month\n",
    "#This DataFrame requires the artist, month to summarize the streams and then to find the total_streams to check against the global value\n",
    "artist_chk_month = df_month.groupBy(['artist','month']).agg(F.sum('streams').alias('total_streams'))\n",
    "#This DataFrame is then modified so months set as ascending and total_streams are set to descending\n",
    "artist_chk_month = artist_chk_month.orderBy(artist_chk_month.month.asc(), artist_chk_month.total_streams.desc())"
   ]
  },
  {
   "cell_type": "code",
   "execution_count": null,
   "id": "14610d5c-b459-4490-8878-ef237622bbb2",
   "metadata": {},
   "outputs": [],
   "source": [
    "#4 The Checker for the Artist by Year\n",
    "#This DataFrame requires the artist, year to summarize the streams and then to find the total_streams to check against the global value\n",
    "artist_chk_year = df_year.groupBy(['artist','year']).agg(F.sum('streams').alias('total_streams'))\n",
    "#This DataFrame is then modified so years set as ascending and total_streams are set to descending\n",
    "artist_chk_year = artist_chk_year.orderBy(artist_chk_year.year.asc(), artist_chk_year.total_streams.desc())"
   ]
  },
  {
   "cell_type": "code",
   "execution_count": null,
   "id": "01cf8c5b-7d75-4716-a2bb-bf77944cd862",
   "metadata": {
    "tags": []
   },
   "outputs": [],
   "source": [
    "#1G\n",
    "#This DataFrame requires the title, artist, month, region to summarize the streams and then to find the total_streams for the global value\n",
    "glob_month = df_glob_month.groupBy(['title','artist','month','region']).agg(F.sum('streams').alias('total_streams'))\n",
    "#This DataFrame is then modified so month set as ascending and total_streams are set to descending\n",
    "glob_month = glob_month.orderBy(glob_month.month.asc(), glob_month.total_streams.desc())"
   ]
  },
  {
   "cell_type": "code",
   "execution_count": null,
   "id": "bdf160c9-d036-44e8-b6a6-d820ecedb2ee",
   "metadata": {},
   "outputs": [],
   "source": [
    "#2G\n",
    "#This DataFrame requires the title, artist, year, region to summarize the streams and then to find the total_streams for the global value\n",
    "glob_year = df_glob_year.groupBy(['title','artist','year','region']).agg(F.sum('streams').alias('total_streams'))\n",
    "#This DataFrame is then modified so years set as ascending and total_streams are set to descending\n",
    "glob_year = glob_year.orderBy(glob_year.year.asc(), glob_year.total_streams.desc())"
   ]
  },
  {
   "cell_type": "code",
   "execution_count": null,
   "id": "28d4282e-d327-4608-8d32-f0f097b89edb",
   "metadata": {},
   "outputs": [],
   "source": [
    "#3G\n",
    "#This DataFrame requires the artist, month, region to summarize the streams and then to find the total_streams for the global value\n",
    "artist_glob_month = df_glob_month.groupBy(['artist','month','region']).agg(F.sum('streams').alias('total_streams'))\n",
    "#This DataFrame is then modified so month set as ascending and total_streams are set to descending\n",
    "artist_glob_month = artist_glob_month.orderBy(artist_glob_month.month.asc(), artist_glob_month.total_streams.desc())"
   ]
  },
  {
   "cell_type": "code",
   "execution_count": null,
   "id": "650fd8c8-d209-4e0a-943f-da0e966b6920",
   "metadata": {},
   "outputs": [],
   "source": [
    "#4G\n",
    "#This DataFrame requires the artist, year, region to summarize the streams and then to find the total_streams for the global value\n",
    "artist_glob_year = df_glob_year.groupBy(['artist','year','region']).agg(F.sum('streams').alias('total_streams'))\n",
    "#This DataFrame is then modified so years set as ascending and total_streams are set to descending\n",
    "artist_glob_year = artist_glob_year.orderBy(artist_glob_year.year.asc(), artist_glob_year.total_streams.desc())"
   ]
  },
  {
   "cell_type": "code",
   "execution_count": null,
   "id": "de55bbc0-6913-4275-a87b-4d3148d8a3c3",
   "metadata": {},
   "outputs": [],
   "source": []
  },
  {
   "cell_type": "markdown",
   "id": "f052371f-6112-44eb-842b-0ccdc763ddb9",
   "metadata": {},
   "source": [
    "### The Sort\n",
    "This section goes through the data and sorts it where the date and region are in ascending order while the total_streams are in descending order. There are three sections same as the previous section each have comments showing which one is which. There are also two dataframes that are created one for the top 20 and one for the top 5. "
   ]
  },
  {
   "cell_type": "code",
   "execution_count": null,
   "id": "337d4702-e016-4aed-a990-4788abeb0580",
   "metadata": {},
   "outputs": [],
   "source": [
    "#1 Country\n",
    "win_month = Window.partitionBy(month['month'],month['region']).orderBy(month['total_streams'].desc())\n",
    "topTwoMonth = month.select('*', F.rank().over(win_month).alias('rank')).filter(F.col('rank') <= 20)\n",
    "topFiveMonth = month.select('*', F.rank().over(win_month).alias('rank')).filter(F.col('rank') <= 5)"
   ]
  },
  {
   "cell_type": "code",
   "execution_count": null,
   "id": "358199b5-feaa-4c3b-82eb-7543e8d93d56",
   "metadata": {},
   "outputs": [],
   "source": [
    "#2 Country\n",
    "win_year = Window.partitionBy(year['year'],year['region']).orderBy(year['total_streams'].desc())\n",
    "topTwoYear = year.select('*', F.rank().over(win_year).alias('rank')).filter(F.col('rank') <= 20)\n",
    "topFiveYear = year.select('*', F.rank().over(win_year).alias('rank')).filter(F.col('rank') <= 5)"
   ]
  },
  {
   "cell_type": "code",
   "execution_count": null,
   "id": "3bda7287-61e5-4808-aea8-c7de62c9baef",
   "metadata": {},
   "outputs": [],
   "source": [
    "#3 Country\n",
    "artist_win_month = Window.partitionBy(artist_month['month'],artist_month['region']).orderBy(artist_month['total_streams'].desc())\n",
    "topTwoArtistMonth = artist_month.select('*', F.rank().over(artist_win_month).alias('rank')).filter(F.col('rank') <= 20)\n",
    "topFiveArtistMonth = artist_month.select('*', F.rank().over(artist_win_month).alias('rank')).filter(F.col('rank') <= 5)"
   ]
  },
  {
   "cell_type": "code",
   "execution_count": null,
   "id": "e97807c7-a531-436c-b069-5211b6d221c7",
   "metadata": {},
   "outputs": [],
   "source": [
    "#4 Country\n",
    "artist_win_year = Window.partitionBy(artist_year['year'],artist_year['region']).orderBy(artist_year['total_streams'].desc())\n",
    "topTwoArtistYear = artist_year.select('*', F.rank().over(artist_win_year).alias('rank')).filter(F.col('rank') <= 20)\n",
    "topFiveArtistYear = artist_year.select('*', F.rank().over(artist_win_year).alias('rank')).filter(F.col('rank') <= 5)"
   ]
  },
  {
   "cell_type": "code",
   "execution_count": null,
   "id": "828cf9d0-6b56-4344-b4c9-7d93242223fc",
   "metadata": {},
   "outputs": [],
   "source": [
    "#1 The Checker for the Song Title by Month\n",
    "win_chk_month = Window.partitionBy(chk_month['month']).orderBy(chk_month['total_streams'].desc())\n",
    "topTwoChkMonth = chk_month.select('*', F.rank().over(win_chk_month).alias('rank')).filter(F.col('rank') <= 20)\n",
    "topFiveChkMonth = chk_month.select('*', F.rank().over(win_chk_month).alias('rank')).filter(F.col('rank') <= 5)"
   ]
  },
  {
   "cell_type": "code",
   "execution_count": null,
   "id": "15ae0feb-eda6-4c89-b779-767a066bf24b",
   "metadata": {},
   "outputs": [],
   "source": [
    "#2 The Checker for the Song Title by Year\n",
    "win_chk_year = Window.partitionBy(chk_year['year']).orderBy(chk_year['total_streams'].desc())\n",
    "topTwoChkYear = chk_year.select('*', F.rank().over(win_chk_year).alias('rank')).filter(F.col('rank') <= 20)\n",
    "topFiveChkYear = chk_year.select('*', F.rank().over(win_chk_year).alias('rank')).filter(F.col('rank') <= 5)"
   ]
  },
  {
   "cell_type": "code",
   "execution_count": null,
   "id": "32df7b2f-6cf6-4d0d-973e-6558e5347022",
   "metadata": {},
   "outputs": [],
   "source": [
    "#3 The Checker for the Artist by Month\n",
    "artist_win_chk_month = Window.partitionBy(artist_chk_month['month']).orderBy(artist_chk_month['total_streams'].desc())\n",
    "topTwoArtistChkMonth = artist_chk_month.select('*', F.rank().over(artist_win_chk_month).alias('rank')).filter(F.col('rank') <= 20)\n",
    "topFiveArtistChkMonth = artist_chk_month.select('*', F.rank().over(artist_win_chk_month).alias('rank')).filter(F.col('rank') <= 5)"
   ]
  },
  {
   "cell_type": "code",
   "execution_count": null,
   "id": "f5aed55f-d500-4774-b15c-20525a864acf",
   "metadata": {},
   "outputs": [],
   "source": [
    "#4 The Checker for the Artist by Year \n",
    "artist_win_chk_year = Window.partitionBy(artist_chk_year['year']).orderBy(artist_chk_year['total_streams'].desc())\n",
    "topTwoArtistChkYear = artist_chk_year.select('*', F.rank().over(artist_win_chk_year).alias('rank')).filter(F.col('rank') <= 20)\n",
    "topFiveArtistChkYear = artist_chk_year.select('*', F.rank().over(artist_win_chk_year).alias('rank')).filter(F.col('rank') <=  5)"
   ]
  },
  {
   "cell_type": "code",
   "execution_count": null,
   "id": "87ea815a-6496-414d-b81a-b3c0b3e305c0",
   "metadata": {},
   "outputs": [],
   "source": [
    "#1 Global\n",
    "glob_win_month = Window.partitionBy(glob_month['month'],glob_month['region']).orderBy(glob_month['total_streams'].desc())\n",
    "topTwoGlobMonth = glob_month.select('*', F.rank().over(glob_win_month).alias('rank')).filter(F.col('rank') <= 20)\n",
    "topFiveGlobMonth = glob_month.select('*', F.rank().over(glob_win_month).alias('rank')).filter(F.col('rank') <= 5)"
   ]
  },
  {
   "cell_type": "code",
   "execution_count": null,
   "id": "3cee9c6d-2618-4a8c-8bf3-7a788afec28a",
   "metadata": {},
   "outputs": [],
   "source": [
    "#2 Global\n",
    "glob_win_year = Window.partitionBy(glob_year['year'], glob_year['region']).orderBy(glob_year['total_streams'].desc())\n",
    "topTwoGlobYear = glob_year.select('*', F.rank().over(glob_win_year).alias('rank')).filter(F.col('rank') <= 20)\n",
    "topFiveGlobYear = glob_year.select('*', F.rank().over(glob_win_year).alias('rank')).filter(F.col('rank') <= 5)"
   ]
  },
  {
   "cell_type": "code",
   "execution_count": null,
   "id": "8c69cb92-5510-40ad-b584-30375a168982",
   "metadata": {},
   "outputs": [],
   "source": [
    "#3 Global\n",
    "artist_glob_win_month = Window.partitionBy(artist_glob_month['month'], artist_glob_month['region']).orderBy(artist_glob_month['total_streams'].desc())\n",
    "topTwoGlobArtistMonth = artist_glob_month.select('*', F.rank().over(artist_glob_win_month).alias('rank')).filter(F.col('rank') <= 20)\n",
    "topFiveGlobArtistMonth = artist_glob_month.select('*', F.rank().over(artist_glob_win_month).alias('rank')).filter(F.col('rank') <= 5)"
   ]
  },
  {
   "cell_type": "code",
   "execution_count": null,
   "id": "83bf7f8b-2a14-49b1-b65a-a47792564c91",
   "metadata": {},
   "outputs": [],
   "source": [
    "#4 Global\n",
    "artist_glob_win_year = Window.partitionBy(artist_glob_year['year'], artist_glob_year['region']).orderBy(artist_glob_year['total_streams'].desc())\n",
    "topTwoGlobArtistYear = artist_glob_year.select('*', F.rank().over(artist_glob_win_year).alias('rank')).filter(F.col('rank') <= 20)\n",
    "topFiveGlobArtistYear = artist_glob_year.select('*', F.rank().over(artist_glob_win_year).alias('rank')).filter(F.col('rank') <= 5)"
   ]
  },
  {
   "cell_type": "code",
   "execution_count": null,
   "id": "6f01020a-ea54-4521-86c1-9f7b31d6761f",
   "metadata": {},
   "outputs": [],
   "source": []
  },
  {
   "cell_type": "markdown",
   "id": "7b5e4ef4-3c87-40de-a501-06b788661c3e",
   "metadata": {},
   "source": [
    "### The Pandas\n",
    "As before this has 3 sections distinct for country, global, and 10 country summed generated value. The parts for the three sections use the top 5 and top 20 dataframes that were generated and turns them into a Pandas dataframe so they can be printed out as a Bar graph. The top 5 pandas for each part are used to create a bar graph showing all of the top 5 for each song and artist for each month and year. Since these are large top 5 graphs they are saved out to a jpg file so they are easier to read and understand."
   ]
  },
  {
   "cell_type": "code",
   "execution_count": null,
   "id": "cd3e1599-c388-4ba4-9bc7-9c9615fba417",
   "metadata": {},
   "outputs": [],
   "source": [
    "#1 Country\n",
    "tfMonth = topFiveMonth.limit(10).toPandas()\n",
    "ttMonthAll = topTwoMonth.toPandas()\n",
    "tfMonthAll = topFiveMonth.toPandas()"
   ]
  },
  {
   "cell_type": "code",
   "execution_count": null,
   "id": "ccde933e-44e5-4905-a43b-0ccf1cf50186",
   "metadata": {},
   "outputs": [],
   "source": [
    "tfmaAx = tfMonthAll.plot(kind='bar',x='title',y='total_streams',figsize=(500,10))\n",
    "tfmaFig = tfmaAx.get_figure()\n",
    "tfmaFig.savefig('TitleMonthNum1.jpg')"
   ]
  },
  {
   "cell_type": "code",
   "execution_count": null,
   "id": "67942e05-71eb-4d69-bdda-54085b1c311e",
   "metadata": {},
   "outputs": [],
   "source": [
    "#2 Country\n",
    "tfYear = topFiveYear.limit(10).toPandas()\n",
    "ttYearAll = topTwoYear.toPandas()\n",
    "tfYearAll = topFiveYear.toPandas()"
   ]
  },
  {
   "cell_type": "code",
   "execution_count": null,
   "id": "77e17825-156d-4af2-80a0-c3f7eb51545f",
   "metadata": {},
   "outputs": [],
   "source": [
    "tfyaAx = tfYearAll.plot(kind='bar',x='title',y='total_streams',figsize=(200,10))\n",
    "tfyaFig = tfyaAx.get_figure()\n",
    "tfyaFig.savefig('TitleYearNum2.jpg')"
   ]
  },
  {
   "cell_type": "code",
   "execution_count": null,
   "id": "6acd07f8-99ad-4d2d-b5d9-3e1dbf57b5bb",
   "metadata": {},
   "outputs": [],
   "source": [
    "#3 Country\n",
    "tfaMonth = topFiveArtistMonth.limit(10).toPandas()\n",
    "ttaMonthAll = topTwoArtistMonth.toPandas()\n",
    "tfaMonthAll = topFiveArtistMonth.toPandas()"
   ]
  },
  {
   "cell_type": "code",
   "execution_count": null,
   "id": "bd8f7344-e582-4eee-b477-bb5f1e42a3fe",
   "metadata": {},
   "outputs": [],
   "source": [
    "tfamaAx = tfaMonthAll.plot(kind='bar',x='artist',y='total_streams',figsize=(500,10))\n",
    "tfamaFig = tfamaAx.get_figure()\n",
    "tfamaFig.savefig('ArtistMonthNum3.jpg')"
   ]
  },
  {
   "cell_type": "code",
   "execution_count": null,
   "id": "071db9c1-f4fd-4488-9a86-0cf98eddfdd0",
   "metadata": {},
   "outputs": [],
   "source": [
    "#4 Country\n",
    "tfaYear = topFiveArtistYear.limit(10).toPandas()\n",
    "ttaYearAll = topTwoArtistYear.toPandas()\n",
    "tfaYearAll = topFiveArtistYear.toPandas()"
   ]
  },
  {
   "cell_type": "code",
   "execution_count": null,
   "id": "a6d3073e-db32-4e53-8561-eb3d15e019d4",
   "metadata": {},
   "outputs": [],
   "source": [
    "tfayaAx = tfaYearAll.plot(kind='bar',x='artist',y='total_streams',figsize=(280,10))\n",
    "tfayaFig = tfayaAx.get_figure()\n",
    "tfayaFig.savefig('ArtistYearNum4.jpg')"
   ]
  },
  {
   "cell_type": "code",
   "execution_count": null,
   "id": "b81e58b3-ad18-49d6-9251-d863f829a0bf",
   "metadata": {},
   "outputs": [],
   "source": [
    "#1 The Checker\n",
    "tfcMonth = topFiveChkMonth.limit(10).toPandas()\n",
    "ttcMonthAll = topTwoChkMonth.toPandas()\n",
    "tfcMonthAll = topFiveChkMonth.toPandas()"
   ]
  },
  {
   "cell_type": "code",
   "execution_count": null,
   "id": "3787ae4b-716d-43cf-9bd4-0045b87ca421",
   "metadata": {},
   "outputs": [],
   "source": [
    "tfcmaAx = tfcMonthAll.plot(kind='bar',x='title',y='total_streams',figsize=(500,10))\n",
    "tfcmaFig = tfcmaAx.get_figure()\n",
    "tfcmaFig.savefig('CheckMonthNum1.jpg')"
   ]
  },
  {
   "cell_type": "code",
   "execution_count": null,
   "id": "91508500-ca26-4ecd-9e56-309b39cb40ba",
   "metadata": {},
   "outputs": [],
   "source": [
    "#2 The Checker \n",
    "tfcYear = topFiveChkYear.limit(10).toPandas()\n",
    "ttcYearAll = topTwoChkYear.toPandas()\n",
    "tfcYearAll = topFiveChkYear.toPandas()"
   ]
  },
  {
   "cell_type": "code",
   "execution_count": null,
   "id": "015c3eb3-b293-44f3-b5ab-02d744e50867",
   "metadata": {},
   "outputs": [],
   "source": [
    "tfcyaAx = tfcYearAll.plot(kind='bar',x='title',y='total_streams',figsize=(50,10))\n",
    "tfcyaFig = tfcyaAx.get_figure()\n",
    "tfcyaFig.savefig('CheckYearNum2.jpg')"
   ]
  },
  {
   "cell_type": "code",
   "execution_count": null,
   "id": "80ca917f-6330-4c2c-a80e-6fc77fac3ce9",
   "metadata": {},
   "outputs": [],
   "source": [
    "#3 The Checker\n",
    "tfacMonth = topFiveArtistChkMonth.limit(10).toPandas()\n",
    "ttacMonthAll = topTwoArtistChkMonth.toPandas()\n",
    "tfacMonthAll = topFiveArtistChkMonth.toPandas()"
   ]
  },
  {
   "cell_type": "code",
   "execution_count": null,
   "id": "7f457cf6-1eb2-41bf-b364-35dfc0325322",
   "metadata": {},
   "outputs": [],
   "source": [
    "tfacmaAx = tfacMonthAll.plot(kind='bar',x='artist',y='total_streams',figsize=(300,10))\n",
    "tfacmaFig = tfacmaAx.get_figure()\n",
    "tfacmaFig.savefig('ArtistCheckMonthNum3.jpg')"
   ]
  },
  {
   "cell_type": "code",
   "execution_count": null,
   "id": "760fc1b2-1ff2-4847-ab60-a25d1c6bb3d4",
   "metadata": {},
   "outputs": [],
   "source": [
    "#4 The Checker\n",
    "tfacYear = topFiveArtistChkYear.limit(10).toPandas()\n",
    "ttacYearAll = topTwoArtistChkYear.toPandas()\n",
    "tfacYearAll = topFiveArtistChkYear.toPandas()"
   ]
  },
  {
   "cell_type": "code",
   "execution_count": null,
   "id": "d80fcde2-5e5a-49c6-bfa0-b3d9747b6080",
   "metadata": {},
   "outputs": [],
   "source": [
    "tfacyaAx = tfacYearAll.plot(kind='bar',x='artist',y='total_streams',figsize=(50,10))\n",
    "tfacyaFig = tfacyaAx.get_figure()\n",
    "tfacyaFig.savefig('ArtistCheckYearNum4.jpg')"
   ]
  },
  {
   "cell_type": "code",
   "execution_count": null,
   "id": "54fb1178-4712-47b1-90d9-dceddae80535",
   "metadata": {},
   "outputs": [],
   "source": [
    "#1 Global\n",
    "tfgMonth = topFiveGlobMonth.limit(10).toPandas()\n",
    "ttgMonthAll = topTwoGlobMonth.toPandas()\n",
    "tfgMonthAll = topFiveGlobMonth.toPandas()"
   ]
  },
  {
   "cell_type": "code",
   "execution_count": null,
   "id": "422d5904-705d-41f5-be53-777851e85626",
   "metadata": {},
   "outputs": [],
   "source": [
    "tfgmaAx = tfgMonthAll.plot(kind='bar',x='title',y='total_streams',figsize=(500,10))\n",
    "tfgmaFig = tfgmaAx.get_figure()\n",
    "tfgmaFig.savefig('GlobalMonthNum1.jpg')"
   ]
  },
  {
   "cell_type": "code",
   "execution_count": null,
   "id": "f4a42961-8d1d-4ff9-89eb-9c33179b396b",
   "metadata": {},
   "outputs": [],
   "source": [
    "#2 Global\n",
    "tfgYear = topFiveGlobYear.limit(10).toPandas()\n",
    "ttgYearAll = topTwoGlobYear.toPandas()\n",
    "tfgYearAll = topFiveGlobYear.toPandas()"
   ]
  },
  {
   "cell_type": "code",
   "execution_count": null,
   "id": "a23af400-7f61-40ff-b9be-d02f2d45607f",
   "metadata": {},
   "outputs": [],
   "source": [
    "tfgyaAx = tfgYearAll.plot(kind='bar',x='title',y='total_streams',figsize=(50,10))\n",
    "tfgyaFig = tfgyaAx.get_figure()\n",
    "tfgyaFig.savefig('GlobalYearNum2.jpg')"
   ]
  },
  {
   "cell_type": "code",
   "execution_count": null,
   "id": "238b2248-c90b-4edb-80f3-749a8b41eb9e",
   "metadata": {},
   "outputs": [],
   "source": [
    "#3 Global\n",
    "tfgaMonth = topFiveGlobArtistMonth.limit(10).toPandas()\n",
    "ttgaMonthAll = topTwoGlobArtistMonth.toPandas()\n",
    "tfgaMonthAll = topFiveGlobArtistMonth.toPandas()"
   ]
  },
  {
   "cell_type": "code",
   "execution_count": null,
   "id": "8cf4aa00-2eb6-445f-a02a-28154a25146a",
   "metadata": {},
   "outputs": [],
   "source": [
    "tfgamaAx = tfgaMonthAll.plot(kind='bar',x='artist',y='total_streams',figsize=(300,10))\n",
    "tfgamaFig = tfgamaAx.get_figure()\n",
    "tfgamaFig.savefig('ArtistGlobalMonthNum3.jpg')"
   ]
  },
  {
   "cell_type": "code",
   "execution_count": null,
   "id": "cc8da720-65f5-4824-9666-a59bd8a472df",
   "metadata": {},
   "outputs": [],
   "source": [
    "#4 Global\n",
    "tfgaYear = topFiveGlobArtistYear.limit(10).toPandas()\n",
    "ttgaYearAll = topTwoGlobArtistYear.toPandas()\n",
    "tfgaYearAll = topFiveGlobArtistYear.toPandas()"
   ]
  },
  {
   "cell_type": "code",
   "execution_count": null,
   "id": "56de2cd0-841c-4a9b-b4cd-5256c136fe99",
   "metadata": {},
   "outputs": [],
   "source": [
    "tfgayaAx = tfgaYearAll.plot(kind='bar',x='artist',y='total_streams',figsize=(50,10))\n",
    "tfgayaFig = tfgayaAx.get_figure() #('TitleFiveGlobalArtistYearAll.pdf')\n",
    "tfgayaFig.savefig('ArtistGlobalYearNum4.jpg')"
   ]
  },
  {
   "cell_type": "markdown",
   "id": "ce2d8e95-615c-4b57-82cb-b72dde954b36",
   "metadata": {},
   "source": [
    "### To view all of the Top Twenty Songs and Artists\n",
    "You will have to put in exactly how I display meaning if it says (yes/no) you and you want yes you will have to spell it exactly because otherwise it will restart it. The value is used to help determine which dataframe it needs to go to as well as specifically for which country and date they are used directly in the dataframe, so it will be able to display the correct bar graph.\n",
    "\n",
    "There is a issue currently when it needs to display the bar chart it only displays once you end the loop, but you can continue adding graphs it will take a few seconds once you end the loop for all of the charts to display."
   ]
  },
  {
   "cell_type": "code",
   "execution_count": null,
   "id": "a0802c89-247f-428d-a749-379ec3d31845",
   "metadata": {},
   "outputs": [],
   "source": [
    "cont_y = input('Would you like to Start (yes/no)? ')\n",
    "while cont_y != 'no':\n",
    "    mth_yr = ''\n",
    "    date = ''\n",
    "    comp = ''\n",
    "    country = ''\n",
    "    artle = ''\n",
    "    glob_count = input('Are you looking for country or global? ')\n",
    "    if glob_count == 'country':\n",
    "        print('The Possible Countries are: United States, Switzerland, Australia, Brazil, Germany, United Kingdom, Sweden, Austria, Uruguay, or Chile')\n",
    "        country = input('What Country would you like? ')\n",
    "    else:\n",
    "        if glob_count == 'global':\n",
    "            comp = input('Would you like to compare? (yes/no)')\n",
    "    mth_yr = input('Would you rather go by month or year? ')\n",
    "    if mth_yr == 'month':\n",
    "        print('To enter the month write as yyyy-MM')\n",
    "        print('You can access from 2017-01 to 2021-12')\n",
    "        date = input('Enter the month: ')\n",
    "    elif mth_yr == 'year':\n",
    "        print('To enter the year write as yyyy')\n",
    "        print('You can access from 2017 to 2021')\n",
    "        date = input('Enter the year: ')\n",
    "    else:\n",
    "        print('Please Try again')\n",
    "        continue\n",
    "    artle = input('Would you like to search by title or artist? ')\n",
    "    if (artle == 'title') & (country !=  '') & (mth_yr == 'month'):\n",
    "        ttMonthAll.loc[(ttMonthAll['month'] == date) & (ttMonthAll['region'] == country)].plot(kind='bar',x='title',y='total_streams',figsize=(20,10))\n",
    "    elif (artle == 'artist') & (country != '') & (mth_yr == 'month'):\n",
    "        ttaMonthAll.loc[(ttaMonthAll['month'] == date) & (ttaMonthAll['region'] == country)].plot(kind='bar',x='artist',y='total_streams',figsize=(20,10))\n",
    "    elif (artle == 'title') & (country != '') & (mth_yr == 'year'):\n",
    "        ttYearAll.loc[(ttYearAll['year'] == date) & (ttYearAll['region'] == country)].plot(kind='bar',x='title',y='total_streams',figsize=(20,10))\n",
    "    elif (artle == 'artist') & (country != '') & (mth_yr == 'year'):\n",
    "        ttaYearAll.loc[(ttaYearAll['year'] == date) & (ttaYearAll['region'] == country)].plot(kind='bar',x='artist',y='total_streams',figsize=(20,10))\n",
    "    elif (artle == 'title') & (glob_count == 'global') & (mth_yr == 'month'):\n",
    "        if comp == 'yes':\n",
    "            ttgMonthAll.loc[(ttgMonthAll['month'] == date)].plot(kind='bar',title='Global Value',x='title',y='total_streams',figsize=(20,10))\n",
    "            ttcMonthAll.loc[(ttcMonthAll['month'] == date)].plot(kind='bar',title='Ten Countries Value',x='title',y='total_streams',figsize=(20,10))\n",
    "        elif comp == 'no':\n",
    "            ttgMonthAll.loc[(ttgMonthAll['month'] == date)].plot(kind='bar',x='title',y='total_streams',figsize=(20,10))\n",
    "        else:\n",
    "            print('Please Try again')\n",
    "            continue\n",
    "    elif (artle == 'artist') & (glob_count == 'global') & (mth_yr == 'month'):\n",
    "        if comp == 'yes':\n",
    "            ttgaMonthAll.loc[(ttgaMonthAll['month'] == date)].plot(kind='bar',title='Global Value',x='artist',y='total_streams',figsize=(20,10))\n",
    "            ttacMonthAll.loc[(ttacMonthAll['month'] == date)].plot(kind='bar',title='Ten Countries Value',x='artist',y='total_streams',figsize=(20,10))\n",
    "        elif comp == 'no':\n",
    "            ttgaMonthAll.loc[(ttgaMonthAll['month'] == date)].plot(kind='bar',x='artist',y='total_streams',figsize=(20,10))\n",
    "        else:\n",
    "            print('Please Try again')\n",
    "            continue\n",
    "    elif (artle == 'title') & (glob_count == 'global') & (mth_yr == 'year'):\n",
    "        if comp == 'yes':\n",
    "            ttgYearAll.loc[(ttgYearAll['year'] == date)].plot(kind='bar',title='Global Value',x='title',y='total_streams',figsize=(20,10))\n",
    "            ttcYearAll.loc[(ttcYearAll['year'] == date)].plot(kind='bar',title='Ten Countries Value',x='title',y='total_streams',figsize=(20,10))\n",
    "        elif comp == 'no':\n",
    "            ttgYearAll.loc[(ttgYearAll['year'] == date)].plot(kind='bar',x='title',y='total_streams',figsize=(20,10))\n",
    "        else:\n",
    "            print('Please Try again')\n",
    "            continue\n",
    "    elif (artle == 'artist') & (glob_count == 'global') & (mth_yr == 'year'):\n",
    "        if comp == 'yes':\n",
    "            ttgaYearAll.loc[(ttgaYearAll['year'] == date)].plot(kind='bar',title='Global Value',x='artist',y='total_streams',figsize=(20,10))\n",
    "            ttacYearAll.loc[(ttacYearAll['year'] == date)].plot(kind='bar',title='Ten Countries Value',x='artist',y='total_streams',figsize=(20,10))\n",
    "        elif comp == 'no':\n",
    "            ttgaYearAll.loc[(ttgaYearAll['year'] == date)].plot(kind='bar',x='artist',y='total_streams',figsize=(20,10))\n",
    "        else:\n",
    "            print('Please Try again')\n",
    "            continue\n",
    "    else:\n",
    "        print(\"A value that you entered \")\n",
    "        continue\n",
    "    print('You can continue as much as you like but viewing the top 20 in a bar graph you will have to choose no when asked to Continue.')\n",
    "    cont_y = input('Would you like to Continue (yes/no)? ')"
   ]
  },
  {
   "cell_type": "code",
   "execution_count": null,
   "id": "cf2b14c8-1868-411b-b395-3b7f9fcd4d63",
   "metadata": {},
   "outputs": [],
   "source": []
  }
 ],
 "metadata": {
  "kernelspec": {
   "display_name": "Python 3 (ipykernel)",
   "language": "python",
   "name": "python3"
  },
  "language_info": {
   "codemirror_mode": {
    "name": "ipython",
    "version": 3
   },
   "file_extension": ".py",
   "mimetype": "text/x-python",
   "name": "python",
   "nbconvert_exporter": "python",
   "pygments_lexer": "ipython3",
   "version": "3.9.10"
  }
 },
 "nbformat": 4,
 "nbformat_minor": 5
}
